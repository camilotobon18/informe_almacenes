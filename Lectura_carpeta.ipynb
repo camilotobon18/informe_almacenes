{
 "cells": [
  {
   "cell_type": "code",
   "execution_count": 1,
   "metadata": {},
   "outputs": [],
   "source": [
    "from os import listdir\n",
    "import os\n",
    "import pandas as pd\n",
    "class Lectura_carpeta():\n",
    "    def leer_carpeta(self, nom_carpeta):\n",
    "        ruta = os.getcwd() + '\\\\' + nom_carpeta\n",
    "        lista_export = listdir(ruta)\n",
    "\n",
    "        data = pd.concat([pd.read_csv(nom_carpeta +'/'+ f, error_bad_lines=False, low_memory=False, sep=',') for f in lista_export])\n",
    "        return data"
   ]
  },
  {
   "cell_type": "code",
   "execution_count": null,
   "metadata": {},
   "outputs": [],
   "source": []
  },
  {
   "cell_type": "code",
   "execution_count": null,
   "metadata": {},
   "outputs": [],
   "source": []
  }
 ],
 "metadata": {
  "kernelspec": {
   "display_name": "Python 3",
   "language": "python",
   "name": "python3"
  },
  "language_info": {
   "codemirror_mode": {
    "name": "ipython",
    "version": 3
   },
   "file_extension": ".py",
   "mimetype": "text/x-python",
   "name": "python",
   "nbconvert_exporter": "python",
   "pygments_lexer": "ipython3",
   "version": "3.8.5"
  }
 },
 "nbformat": 4,
 "nbformat_minor": 4
}
